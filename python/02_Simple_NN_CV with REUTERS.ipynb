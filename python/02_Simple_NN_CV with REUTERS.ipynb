{
 "cells": [
  {
   "cell_type": "code",
   "execution_count": 1,
   "metadata": {},
   "outputs": [
    {
     "name": "stderr",
     "output_type": "stream",
     "text": [
      "Using TensorFlow backend.\n"
     ]
    }
   ],
   "source": [
    "import keras\n",
    "import numpy as np"
   ]
  },
  {
   "cell_type": "code",
   "execution_count": 2,
   "metadata": {},
   "outputs": [],
   "source": [
    "from keras.datasets import reuters\n",
    "\n",
    "(train_x, train_y), (test_x, test_y) = reuters.load_data(num_words=10000)"
   ]
  },
  {
   "cell_type": "code",
   "execution_count": 3,
   "metadata": {},
   "outputs": [],
   "source": [
    "def vec_seq(seqs, dim=10000):\n",
    "    results = np.zeros((len(seqs), dim))\n",
    "    for i, seq in enumerate(seqs):\n",
    "        results[i, seq] = 1\n",
    "    return results\n",
    "\n",
    "train_x = vec_seq(train_x)\n",
    "test_x = vec_seq(test_x)"
   ]
  },
  {
   "cell_type": "code",
   "execution_count": 4,
   "metadata": {},
   "outputs": [],
   "source": [
    "train_y = keras.utils.to_categorical(train_y)\n",
    "test_y = keras.utils.to_categorical(test_y)"
   ]
  },
  {
   "cell_type": "code",
   "execution_count": 5,
   "metadata": {},
   "outputs": [],
   "source": [
    "from keras import models, layers\n",
    "\n",
    "def build_model():\n",
    "    model = models.Sequential()\n",
    "    model.add(layers.Dense(64, activation='relu'))\n",
    "    model.add(layers.Dense(128, activation='relu'))\n",
    "    model.add(layers.Dense(128, activation='relu'))\n",
    "    model.add(layers.Dense(46, activation='softmax'))\n",
    "    \n",
    "    model.compile(optimizer='rmsprop',\n",
    "                 loss='categorical_crossentropy',\n",
    "                 metrics=['acc'])\n",
    "    \n",
    "    return model\n",
    "\n"
   ]
  },
  {
   "cell_type": "code",
   "execution_count": 6,
   "metadata": {
    "scrolled": true
   },
   "outputs": [
    {
     "name": "stdout",
     "output_type": "stream",
     "text": [
      "WARNING:tensorflow:From C:\\Users\\young\\Anaconda3\\lib\\site-packages\\tensorflow\\python\\framework\\op_def_library.py:263: colocate_with (from tensorflow.python.framework.ops) is deprecated and will be removed in a future version.\n",
      "Instructions for updating:\n",
      "Colocations handled automatically by placer.\n",
      "WARNING:tensorflow:From C:\\Users\\young\\Anaconda3\\lib\\site-packages\\tensorflow\\python\\ops\\math_ops.py:3066: to_int32 (from tensorflow.python.ops.math_ops) is deprecated and will be removed in a future version.\n",
      "Instructions for updating:\n",
      "Use tf.cast instead.\n",
      "Train on 6736 samples, validate on 2246 samples\n",
      "Epoch 1/10\n",
      "6736/6736 [==============================] - 2s 335us/step - loss: 2.8859 - acc: 0.3129 - val_loss: 2.4889 - val_acc: 0.3442\n",
      "Epoch 2/10\n",
      "6736/6736 [==============================] - 1s 110us/step - loss: 2.3985 - acc: 0.3624 - val_loss: 2.4853 - val_acc: 0.3451\n",
      "Epoch 3/10\n",
      "6736/6736 [==============================] - 1s 109us/step - loss: 2.3013 - acc: 0.3799 - val_loss: 2.4108 - val_acc: 0.3232\n",
      "Epoch 4/10\n",
      "6736/6736 [==============================] - 1s 111us/step - loss: 2.1822 - acc: 0.4026 - val_loss: 2.4623 - val_acc: 0.3192\n",
      "Epoch 5/10\n",
      "6736/6736 [==============================] - 1s 108us/step - loss: 2.0785 - acc: 0.4238 - val_loss: 2.5342 - val_acc: 0.3112\n",
      "Epoch 6/10\n",
      "6736/6736 [==============================] - 1s 108us/step - loss: 1.9771 - acc: 0.4469 - val_loss: 2.6424 - val_acc: 0.2872\n",
      "Epoch 7/10\n",
      "6736/6736 [==============================] - 1s 107us/step - loss: 1.8472 - acc: 0.4792 - val_loss: 2.7483 - val_acc: 0.3206\n",
      "Epoch 8/10\n",
      "6736/6736 [==============================] - 1s 106us/step - loss: 1.7580 - acc: 0.4890 - val_loss: 2.9127 - val_acc: 0.3085\n",
      "Epoch 9/10\n",
      "6736/6736 [==============================] - 1s 107us/step - loss: 1.6535 - acc: 0.5166 - val_loss: 2.9814 - val_acc: 0.2458\n",
      "Epoch 10/10\n",
      "6736/6736 [==============================] - 1s 106us/step - loss: 1.5824 - acc: 0.5212 - val_loss: 3.0595 - val_acc: 0.2778\n",
      "2246/2246 [==============================] - 0s 120us/step\n",
      "2246/2246 [==============================] - 0s 110us/step\n",
      "Train on 6736 samples, validate on 2246 samples\n",
      "Epoch 1/10\n",
      "6736/6736 [==============================] - 1s 143us/step - loss: 2.8906 - acc: 0.3124 - val_loss: 2.6225 - val_acc: 0.3531\n",
      "Epoch 2/10\n",
      "6736/6736 [==============================] - 1s 107us/step - loss: 2.3888 - acc: 0.3376 - val_loss: 2.4905 - val_acc: 0.3517\n",
      "Epoch 3/10\n",
      "6736/6736 [==============================] - 1s 108us/step - loss: 2.2669 - acc: 0.3803 - val_loss: 2.4698 - val_acc: 0.3513\n",
      "Epoch 4/10\n",
      "6736/6736 [==============================] - 1s 108us/step - loss: 2.1738 - acc: 0.4017 - val_loss: 2.5329 - val_acc: 0.3500\n",
      "Epoch 5/10\n",
      "6736/6736 [==============================] - 1s 107us/step - loss: 2.0633 - acc: 0.4133 - val_loss: 2.5896 - val_acc: 0.3255\n",
      "Epoch 6/10\n",
      "6736/6736 [==============================] - 1s 107us/step - loss: 1.9467 - acc: 0.4455 - val_loss: 2.6875 - val_acc: 0.3045\n",
      "Epoch 7/10\n",
      "6736/6736 [==============================] - 1s 107us/step - loss: 1.8495 - acc: 0.4656 - val_loss: 2.7738 - val_acc: 0.2605\n",
      "Epoch 8/10\n",
      "6736/6736 [==============================] - 1s 107us/step - loss: 1.7427 - acc: 0.4941 - val_loss: 2.9463 - val_acc: 0.3188\n",
      "Epoch 9/10\n",
      "6736/6736 [==============================] - 1s 106us/step - loss: 1.6782 - acc: 0.4954 - val_loss: 2.9712 - val_acc: 0.2524\n",
      "Epoch 10/10\n",
      "6736/6736 [==============================] - 1s 108us/step - loss: 1.5761 - acc: 0.5224 - val_loss: 3.2615 - val_acc: 0.3210\n",
      "2246/2246 [==============================] - 0s 112us/step\n",
      "2246/2246 [==============================] - 0s 107us/step\n",
      "Train on 6736 samples, validate on 2246 samples\n",
      "Epoch 1/10\n",
      "6736/6736 [==============================] - 1s 143us/step - loss: 2.8643 - acc: 0.3168 - val_loss: 2.5634 - val_acc: 0.3549\n",
      "Epoch 2/10\n",
      "6736/6736 [==============================] - 1s 108us/step - loss: 2.3689 - acc: 0.3630 - val_loss: 2.5102 - val_acc: 0.3522\n",
      "Epoch 3/10\n",
      "6736/6736 [==============================] - 1s 108us/step - loss: 2.2709 - acc: 0.3688 - val_loss: 2.5528 - val_acc: 0.2400\n",
      "Epoch 4/10\n",
      "6736/6736 [==============================] - 1s 108us/step - loss: 2.1601 - acc: 0.4088 - val_loss: 2.5544 - val_acc: 0.3028\n",
      "Epoch 5/10\n",
      "6736/6736 [==============================] - 1s 106us/step - loss: 2.0903 - acc: 0.4091 - val_loss: 2.6006 - val_acc: 0.3130\n",
      "Epoch 6/10\n",
      "6736/6736 [==============================] - 1s 105us/step - loss: 1.9902 - acc: 0.4408 - val_loss: 2.6994 - val_acc: 0.2743\n",
      "Epoch 7/10\n",
      "6736/6736 [==============================] - 1s 107us/step - loss: 1.8925 - acc: 0.4535 - val_loss: 2.8218 - val_acc: 0.3286\n",
      "Epoch 8/10\n",
      "6736/6736 [==============================] - 1s 108us/step - loss: 1.8087 - acc: 0.4712 - val_loss: 2.8280 - val_acc: 0.3170\n",
      "Epoch 9/10\n",
      "6736/6736 [==============================] - 1s 106us/step - loss: 1.7209 - acc: 0.4930 - val_loss: 2.9408 - val_acc: 0.2738\n",
      "Epoch 10/10\n",
      "6736/6736 [==============================] - 1s 107us/step - loss: 1.6597 - acc: 0.5001 - val_loss: 2.9315 - val_acc: 0.2378\n",
      "2246/2246 [==============================] - 0s 107us/step\n",
      "2246/2246 [==============================] - 0s 108us/step\n",
      "Train on 6738 samples, validate on 2244 samples\n",
      "Epoch 1/10\n",
      "6738/6738 [==============================] - 1s 147us/step - loss: 2.8935 - acc: 0.3063 - val_loss: 2.5435 - val_acc: 0.2304\n",
      "Epoch 2/10\n",
      "6738/6738 [==============================] - 1s 108us/step - loss: 2.3812 - acc: 0.3485 - val_loss: 2.5695 - val_acc: 0.3529\n",
      "Epoch 3/10\n",
      "6738/6738 [==============================] - 1s 109us/step - loss: 2.2802 - acc: 0.3709 - val_loss: 2.4815 - val_acc: 0.3458\n",
      "Epoch 4/10\n",
      "6738/6738 [==============================] - 1s 107us/step - loss: 2.1893 - acc: 0.3900 - val_loss: 2.5147 - val_acc: 0.3467\n",
      "Epoch 5/10\n",
      "6738/6738 [==============================] - 1s 107us/step - loss: 2.0990 - acc: 0.4130 - val_loss: 2.5297 - val_acc: 0.3458\n",
      "Epoch 6/10\n",
      "6738/6738 [==============================] - 1s 107us/step - loss: 2.0115 - acc: 0.4253 - val_loss: 2.6554 - val_acc: 0.3391\n",
      "Epoch 7/10\n",
      "6738/6738 [==============================] - 1s 107us/step - loss: 1.9222 - acc: 0.4429 - val_loss: 2.6487 - val_acc: 0.3382\n",
      "Epoch 8/10\n",
      "6738/6738 [==============================] - 1s 107us/step - loss: 1.8249 - acc: 0.4676 - val_loss: 2.7246 - val_acc: 0.3160\n",
      "Epoch 9/10\n",
      "6738/6738 [==============================] - 1s 106us/step - loss: 1.7457 - acc: 0.4807 - val_loss: 2.8617 - val_acc: 0.3302\n",
      "Epoch 10/10\n",
      "6738/6738 [==============================] - 1s 107us/step - loss: 1.6716 - acc: 0.4853 - val_loss: 2.9232 - val_acc: 0.3200\n",
      "2246/2246 [==============================] - 0s 109us/step\n",
      "2246/2246 [==============================] - 0s 107us/step\n"
     ]
    }
   ],
   "source": [
    "import random\n",
    "\n",
    "k = 4\n",
    "random.shuffle(train_x)\n",
    "random.shuffle(train_y)\n",
    "\n",
    "results = [[],[]]\n",
    "scale = round(len(train_x) / k)\n",
    "\n",
    "for i in range(k):\n",
    "    if i != k-1:\n",
    "        val_x = train_x[i*scale:(i+1)*scale]\n",
    "        val_y = train_y[i*scale:(i+1)*scale]\n",
    "\n",
    "        partial_train_x = np.array(list(train_x[:i*scale]) + list(train_x[(i+1)*scale:]))\n",
    "        partial_train_y = np.array(list(train_y[:i*scale]) + list(train_y[(i+1)*scale:]))\n",
    "    else:\n",
    "        val_x = train_x[i*scale:]\n",
    "        val_y = train_y[i*scale:]\n",
    "\n",
    "        partial_train_x = train_x[:i*scale]\n",
    "        partial_train_y = train_y[:i*scale]\n",
    "        \n",
    "\n",
    "    model = build_model()\n",
    "    history = model.fit(partial_train_x, partial_train_y,\n",
    "                        epochs=10,\n",
    "                        batch_size=512,\n",
    "                        validation_data=[val_x,val_y]\n",
    "                       )\n",
    "\n",
    "    results[0].append(model.evaluate(test_x,test_y)[0])\n",
    "    results[1].append(model.evaluate(test_x,test_y)[1])\n"
   ]
  },
  {
   "cell_type": "code",
   "execution_count": 7,
   "metadata": {
    "scrolled": false
   },
   "outputs": [
    {
     "name": "stdout",
     "output_type": "stream",
     "text": [
      "[3.0795465817116034, 3.382558272337128, 2.883686419161748, 2.871297688327086]\n",
      "[0.32902938562743067, 0.35663401608157136, 0.24398931436313653, 0.35574354413143777]\n",
      "3.0542722403843916\n",
      "0.32134906505089406\n"
     ]
    }
   ],
   "source": [
    "print(results[0])\n",
    "print(results[1])\n",
    "\n",
    "print(sum(results[0])/k)\n",
    "print(sum(results[1])/k)"
   ]
  }
 ],
 "metadata": {
  "kernelspec": {
   "display_name": "Python 3",
   "language": "python",
   "name": "python3"
  },
  "language_info": {
   "codemirror_mode": {
    "name": "ipython",
    "version": 3
   },
   "file_extension": ".py",
   "mimetype": "text/x-python",
   "name": "python",
   "nbconvert_exporter": "python",
   "pygments_lexer": "ipython3",
   "version": "3.7.3"
  },
  "toc": {
   "base_numbering": 1,
   "nav_menu": {},
   "number_sections": true,
   "sideBar": true,
   "skip_h1_title": false,
   "title_cell": "Table of Contents",
   "title_sidebar": "Contents",
   "toc_cell": false,
   "toc_position": {},
   "toc_section_display": true,
   "toc_window_display": false
  }
 },
 "nbformat": 4,
 "nbformat_minor": 2
}
