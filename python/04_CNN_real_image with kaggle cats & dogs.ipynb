{
 "cells": [
  {
   "cell_type": "code",
   "execution_count": 1,
   "metadata": {},
   "outputs": [
    {
     "name": "stderr",
     "output_type": "stream",
     "text": [
      "Using TensorFlow backend.\n"
     ]
    }
   ],
   "source": [
    "import pandas as pd\n",
    "import numpy as np\n",
    "import keras\n",
    "import matplotlib.pyplot as plt"
   ]
  },
  {
   "cell_type": "code",
   "execution_count": 2,
   "metadata": {},
   "outputs": [],
   "source": [
    "data_from_dir = 'C:/Users/young/Desktop/R/cats-dogs'\n",
    "base_dir = base_dir='C:/Users/young/Desktop/R/kaggle_cat'\n",
    "\n",
    "train_dir='C:/Users/young/Desktop/R/kaggle_cat/train'\n",
    "val_dir='C:/Users/young/Desktop/R/kaggle_cat/val'\n",
    "test_dir='C:/Users/young/Desktop/R/kaggle_cat/test'\n",
    "\n",
    "train_cats_dir=f'C:/Users/young/Desktop/R/kaggle_cat/train/cats'\n",
    "train_dogs_dir='C:/Users/young/Desktop/R/kaggle_cat/train/dogs'\n",
    "val_cats_dir='C:/Users/young/Desktop/R/kaggle_cat/val/cats'\n",
    "val_dogs_dir='C:/Users/young/Desktop/R/kaggle_cat/val/dogs'\n",
    "test_cats_dir='C:/Users/young/Desktop/R/kaggle_cat/test/cats'\n",
    "test_dogs_dir='C:/Users/young/Desktop/R/kaggle_cat/test/dogs'\n"
   ]
  },
  {
   "cell_type": "code",
   "execution_count": 3,
   "metadata": {},
   "outputs": [
    {
     "name": "stdout",
     "output_type": "stream",
     "text": [
      "Found 2000 images belonging to 2 classes.\n",
      "Found 1000 images belonging to 2 classes.\n",
      "Found 1000 images belonging to 2 classes.\n"
     ]
    }
   ],
   "source": [
    "from keras.preprocessing.image import ImageDataGenerator\n",
    "\n",
    "train_data_gen = ImageDataGenerator(rescale = 1/255,\n",
    "                             zoom_range= 0.2)\n",
    "data_gen = ImageDataGenerator(rescale = 1/255)\n",
    "\n",
    "train_gen = train_data_gen.flow_from_directory(train_dir,\n",
    "                                        target_size=(150,150),\n",
    "                                        batch_size=20,\n",
    "                                        class_mode='binary')\n",
    "val_gen = data_gen.flow_from_directory(val_dir,\n",
    "                                        target_size=(150,150),\n",
    "                                        batch_size=20,\n",
    "                                        class_mode='binary')\n",
    "test_gen = data_gen.flow_from_directory(test_dir,\n",
    "                                        target_size=(150,150),\n",
    "                                        batch_size=20,\n",
    "                                        class_mode='binary')"
   ]
  },
  {
   "cell_type": "code",
   "execution_count": 4,
   "metadata": {},
   "outputs": [
    {
     "name": "stdout",
     "output_type": "stream",
     "text": [
      "WARNING:tensorflow:From C:\\Users\\young\\Anaconda3\\envs\\env\\lib\\site-packages\\tensorflow\\python\\framework\\op_def_library.py:263: colocate_with (from tensorflow.python.framework.ops) is deprecated and will be removed in a future version.\n",
      "Instructions for updating:\n",
      "Colocations handled automatically by placer.\n",
      "_________________________________________________________________\n",
      "Layer (type)                 Output Shape              Param #   \n",
      "=================================================================\n",
      "conv2d_1 (Conv2D)            (None, 148, 148, 32)      896       \n",
      "_________________________________________________________________\n",
      "max_pooling2d_1 (MaxPooling2 (None, 74, 74, 32)        0         \n",
      "_________________________________________________________________\n",
      "conv2d_2 (Conv2D)            (None, 72, 72, 32)        9248      \n",
      "_________________________________________________________________\n",
      "max_pooling2d_2 (MaxPooling2 (None, 36, 36, 32)        0         \n",
      "_________________________________________________________________\n",
      "conv2d_3 (Conv2D)            (None, 34, 34, 32)        9248      \n",
      "_________________________________________________________________\n",
      "max_pooling2d_3 (MaxPooling2 (None, 17, 17, 32)        0         \n",
      "_________________________________________________________________\n",
      "flatten_1 (Flatten)          (None, 9248)              0         \n",
      "_________________________________________________________________\n",
      "dense_1 (Dense)              (None, 256)               2367744   \n",
      "_________________________________________________________________\n",
      "dense_2 (Dense)              (None, 1)                 257       \n",
      "=================================================================\n",
      "Total params: 2,387,393\n",
      "Trainable params: 2,387,393\n",
      "Non-trainable params: 0\n",
      "_________________________________________________________________\n"
     ]
    }
   ],
   "source": [
    "from keras import models, layers\n",
    "\n",
    "model = models.Sequential()\n",
    "\n",
    "model.add(layers.Conv2D(32, activation='relu', input_shape=(150,150,3), kernel_size=3))\n",
    "model.add(layers.MaxPool2D(2))\n",
    "model.add(layers.Conv2D(32, activation='relu', kernel_size=3))\n",
    "model.add(layers.MaxPool2D(2))\n",
    "model.add(layers.Conv2D(32, activation='relu',  kernel_size=3))\n",
    "model.add(layers.MaxPool2D(2))\n",
    "model.add(layers.Flatten())\n",
    "model.add(layers.Dense(256, activation = 'relu'))\n",
    "model.add(layers.Dense(1, activation='sigmoid'))\n",
    "\n",
    "model.summary()\n",
    "\n",
    "model.compile(optimizer='rmsprop', \n",
    "              loss='binary_crossentropy', \n",
    "              metrics=['acc'])"
   ]
  },
  {
   "cell_type": "code",
   "execution_count": 5,
   "metadata": {
    "scrolled": true
   },
   "outputs": [
    {
     "name": "stdout",
     "output_type": "stream",
     "text": [
      "WARNING:tensorflow:From C:\\Users\\young\\Anaconda3\\envs\\env\\lib\\site-packages\\tensorflow\\python\\ops\\math_ops.py:3066: to_int32 (from tensorflow.python.ops.math_ops) is deprecated and will be removed in a future version.\n",
      "Instructions for updating:\n",
      "Use tf.cast instead.\n",
      "Epoch 1/10\n",
      "100/100 [==============================] - 13s 132ms/step - loss: 0.7196 - acc: 0.5265 - val_loss: 0.6840 - val_acc: 0.6130\n",
      "Epoch 2/10\n",
      "100/100 [==============================] - 10s 99ms/step - loss: 0.6653 - acc: 0.6190 - val_loss: 0.6348 - val_acc: 0.6430\n",
      "Epoch 3/10\n",
      "100/100 [==============================] - 10s 97ms/step - loss: 0.6102 - acc: 0.6895 - val_loss: 0.6241 - val_acc: 0.6440\n",
      "Epoch 4/10\n",
      "100/100 [==============================] - 10s 98ms/step - loss: 0.5861 - acc: 0.7165 - val_loss: 0.6596 - val_acc: 0.6270\n",
      "Epoch 5/10\n",
      "100/100 [==============================] - 10s 97ms/step - loss: 0.5516 - acc: 0.7255 - val_loss: 0.6290 - val_acc: 0.6630\n",
      "Epoch 6/10\n",
      "100/100 [==============================] - 10s 97ms/step - loss: 0.5129 - acc: 0.7485 - val_loss: 0.5779 - val_acc: 0.6910\n",
      "Epoch 7/10\n",
      "100/100 [==============================] - 10s 96ms/step - loss: 0.4889 - acc: 0.7645 - val_loss: 0.5723 - val_acc: 0.7270\n",
      "Epoch 8/10\n",
      "100/100 [==============================] - 10s 96ms/step - loss: 0.4716 - acc: 0.7790 - val_loss: 0.6269 - val_acc: 0.7130\n",
      "Epoch 9/10\n",
      "100/100 [==============================] - 10s 97ms/step - loss: 0.4354 - acc: 0.7900 - val_loss: 0.6019 - val_acc: 0.7170\n",
      "Epoch 10/10\n",
      "100/100 [==============================] - 10s 96ms/step - loss: 0.4237 - acc: 0.8085 - val_loss: 0.6073 - val_acc: 0.7270\n"
     ]
    }
   ],
   "source": [
    "history = model.fit_generator(train_gen,\n",
    "                             steps_per_epoch=100,\n",
    "                             epochs = 10,\n",
    "                             validation_data= val_gen,\n",
    "                             validation_steps=50)"
   ]
  },
  {
   "cell_type": "code",
   "execution_count": 7,
   "metadata": {},
   "outputs": [
    {
     "data": {
      "image/png": "[encoded data removed]",
      "text/plain": [
       "<Figure size 432x288 with 1 Axes>"
      ]
     },
     "metadata": {
      "needs_background": "light"
     },
     "output_type": "display_data"
    }
   ],
   "source": [
    "plt.plot(history.history['loss'])\n",
    "plt.plot(history.history['val_loss'])\n",
    "plt.title('Model loss')\n",
    "plt.ylabel('Loss')\n",
    "plt.xlabel('Epoch')\n",
    "plt.legend(['Train', 'Val'], loc='upper right')\n",
    "plt.show()\n"
   ]
  },
  {
   "cell_type": "code",
   "execution_count": 8,
   "metadata": {},
   "outputs": [
    {
     "data": {
      "image/png": "[encoded data removed]",
      "text/plain": [
       "<Figure size 432x288 with 1 Axes>"
      ]
     },
     "metadata": {
      "needs_background": "light"
     },
     "output_type": "display_data"
    }
   ],
   "source": [
    "plt.plot(history.history['acc'])\n",
    "plt.plot(history.history['val_acc'])\n",
    "plt.title('Model accuracy')\n",
    "plt.ylabel('Accuracy')\n",
    "plt.xlabel('Epoch')\n",
    "plt.legend(['Train', 'Val'], loc='upper left')\n",
    "plt.show()"
   ]
  },
  {
   "cell_type": "code",
   "execution_count": null,
   "metadata": {},
   "outputs": [],
   "source": []
  }
 ],
 "metadata": {
  "kernelspec": {
   "display_name": "Python 3",
   "language": "python",
   "name": "python3"
  },
  "language_info": {
   "codemirror_mode": {
    "name": "ipython",
    "version": 3
   },
   "file_extension": ".py",
   "mimetype": "text/x-python",
   "name": "python",
   "nbconvert_exporter": "python",
   "pygments_lexer": "ipython3",
   "version": "3.7.1"
  }
 },
 "nbformat": 4,
 "nbformat_minor": 2
}
