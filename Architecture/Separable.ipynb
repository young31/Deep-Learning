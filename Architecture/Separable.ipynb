{
 "cells": [
  {
   "cell_type": "markdown",
   "metadata": {},
   "source": [
    "쉽게 이해하자면 여러 Conv layer가 각 입력 채널상에서 독립적으로 연산을 수행하는 것이다.  \n",
    "입력의 공간적 위치는 상호 연관성이 높지만, 채널끼리는 상호 독립적이라고 가정하면 큰 의미를 지니게 된다.  \n",
    "\n",
    "장점으로는 더 적은 양의 데이터를 사용해 더 나은 표현을 학습하는 경향이 있으므로 더 우수한 모형을 만들 수 있다.  \n",
    "\n",
    "특히 제한된 상황에서 밑바닥부터 훈련할 때 중요하게 작용한다.  \n",
    "\n",
    "코드는 아래와 같이 형성할 수 있다."
   ]
  },
  {
   "cell_type": "code",
   "execution_count": 2,
   "metadata": {},
   "outputs": [
    {
     "name": "stderr",
     "output_type": "stream",
     "text": [
      "W0810 18:50:26.743453 18492 deprecation_wrapper.py:119] From C:\\Users\\young\\Anaconda3\\envs\\py36\\lib\\site-packages\\keras\\backend\\tensorflow_backend.py:517: The name tf.placeholder is deprecated. Please use tf.compat.v1.placeholder instead.\n",
      "\n",
      "W0810 18:50:26.745427 18492 deprecation_wrapper.py:119] From C:\\Users\\young\\Anaconda3\\envs\\py36\\lib\\site-packages\\keras\\backend\\tensorflow_backend.py:4138: The name tf.random_uniform is deprecated. Please use tf.random.uniform instead.\n",
      "\n",
      "W0810 18:50:26.869121 18492 deprecation_wrapper.py:119] From C:\\Users\\young\\Anaconda3\\envs\\py36\\lib\\site-packages\\keras\\backend\\tensorflow_backend.py:3976: The name tf.nn.max_pool is deprecated. Please use tf.nn.max_pool2d instead.\n",
      "\n"
     ]
    }
   ],
   "source": [
    "from keras import models, layers\n",
    "import keras\n",
    "\n",
    "model = keras.models.Sequential()\n",
    "\n",
    "model.add(layers.SeparableConv2D(filters=16, \n",
    "                                 kernel_size=3, \n",
    "                                 activation='relu',\n",
    "                                input_shape = (224,224,3)))\n",
    "model.add(layers.SeparableConv2D(filters=16,\n",
    "                                kernel_size=3,\n",
    "                                activation='relu'))\n",
    "model.add(layers.SeparableConv2D(filters=16,\n",
    "                                kernel_size=3,\n",
    "                                activation='relu'))\n",
    "model.add(layers.SeparableConv2D(32, kernel_size=1, strides=2))\n",
    "\n",
    "model.add(layers.SeparableConv2D(filters=16,\n",
    "                                kernel_size=3,\n",
    "                                activation='relu'))\n",
    "model.add(layers.SeparableConv2D(filters=32,\n",
    "                                kernel_size=3,\n",
    "                                activation='relu'))\n",
    "model.add(layers.SeparableConv2D(filters=16,\n",
    "                                kernel_size=3,\n",
    "                                activation='relu'))\n",
    "model.add(layers.SeparableConv2D(32, kernel_size=1, strides=2))\n",
    "\n",
    "\n",
    "model.add(layers.MaxPooling2D(2))\n",
    "model.add(layers.GlobalMaxPooling2D())\n",
    "\n",
    "model.add(layers.Dense(64, activation='relu'))\n",
    "model.add(layers.Dense(10, activation='softmax'))"
   ]
  },
  {
   "cell_type": "code",
   "execution_count": 3,
   "metadata": {},
   "outputs": [],
   "source": [
    "from keras.utils import plot_model\n",
    "\n",
    "plot_model(model, to_file='xception.png')"
   ]
  },
  {
   "cell_type": "code",
   "execution_count": null,
   "metadata": {},
   "outputs": [],
   "source": []
  }
 ],
 "metadata": {
  "kernelspec": {
   "display_name": "Python 3",
   "language": "python",
   "name": "python3"
  },
  "language_info": {
   "codemirror_mode": {
    "name": "ipython",
    "version": 3
   },
   "file_extension": ".py",
   "mimetype": "text/x-python",
   "name": "python",
   "nbconvert_exporter": "python",
   "pygments_lexer": "ipython3",
   "version": "3.6.8"
  },
  "toc": {
   "base_numbering": 1,
   "nav_menu": {},
   "number_sections": true,
   "sideBar": true,
   "skip_h1_title": false,
   "title_cell": "Table of Contents",
   "title_sidebar": "Contents",
   "toc_cell": false,
   "toc_position": {},
   "toc_section_display": true,
   "toc_window_display": false
  }
 },
 "nbformat": 4,
 "nbformat_minor": 2
}
