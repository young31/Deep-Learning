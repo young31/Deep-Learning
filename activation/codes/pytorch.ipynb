{
 "cells": [
  {
   "cell_type": "code",
   "execution_count": 1,
   "metadata": {},
   "outputs": [],
   "source": [
    "import torch\n",
    "import torch.nn as nn\n",
    "import torch.nn.functional as F\n",
    "from torch import optim"
   ]
  },
  {
   "cell_type": "code",
   "execution_count": 2,
   "metadata": {
    "scrolled": true
   },
   "outputs": [],
   "source": [
    "import numpy as np\n",
    "\n",
    "x = np.random.normal(0, 1, (1000, 10))\n",
    "y = np.random.normal(0, 1, (1000, 1))\n",
    "\n",
    "x = torch.tensor(x, dtype=torch.float32)\n",
    "y = torch.tensor(y, dtype=torch.float32)"
   ]
  },
  {
   "cell_type": "markdown",
   "metadata": {},
   "source": [
    "## Leaky ReLU"
   ]
  },
  {
   "cell_type": "code",
   "execution_count": 3,
   "metadata": {},
   "outputs": [
    {
     "name": "stdout",
     "output_type": "stream",
     "text": [
      "tensor(1.1536, grad_fn=<MseLossBackward>)\n"
     ]
    }
   ],
   "source": [
    "net = nn.Sequential(\n",
    "        nn.Linear(10, 32),\n",
    "        nn.LeakyReLU(),\n",
    "        nn.Linear(32, 1)\n",
    ")\n",
    "\n",
    "loss_fs = nn.MSELoss()\n",
    "optimizer = optim.Adam(net.parameters())\n",
    "\n",
    "# epochs\n",
    "optimizer.zero_grad()\n",
    "    \n",
    "y_pred = net(x)\n",
    "loss = loss_fs(y_pred, y)\n",
    "\n",
    "loss.backward()\n",
    "\n",
    "optimizer.step()\n",
    "print(loss)"
   ]
  },
  {
   "cell_type": "markdown",
   "metadata": {},
   "source": [
    "## PReLU"
   ]
  },
  {
   "cell_type": "code",
   "execution_count": 4,
   "metadata": {},
   "outputs": [
    {
     "name": "stdout",
     "output_type": "stream",
     "text": [
      "tensor(1.1908, grad_fn=<MseLossBackward>)\n"
     ]
    }
   ],
   "source": [
    "net = nn.Sequential(\n",
    "        nn.Linear(10, 32),\n",
    "        nn.PReLU(),\n",
    "        nn.Linear(32, 1)\n",
    ")\n",
    "\n",
    "loss_fs = nn.MSELoss()\n",
    "optimizer = optim.Adam(net.parameters())\n",
    "\n",
    "# epochs\n",
    "optimizer.zero_grad()\n",
    "    \n",
    "y_pred = net(x)\n",
    "loss = loss_fs(y_pred, y)\n",
    "\n",
    "loss.backward()\n",
    "\n",
    "optimizer.step()\n",
    "print(loss)"
   ]
  },
  {
   "cell_type": "markdown",
   "metadata": {},
   "source": [
    "## SWISH"
   ]
  },
  {
   "cell_type": "code",
   "execution_count": 5,
   "metadata": {},
   "outputs": [
    {
     "name": "stdout",
     "output_type": "stream",
     "text": [
      "tensor(1.1301, grad_fn=<MseLossBackward>)\n"
     ]
    }
   ],
   "source": [
    "class Swish(nn.Module):\n",
    "    def __init__(self):\n",
    "        super(Swish, self).__init__()\n",
    "\n",
    "    def forward(self, x):\n",
    "        return x * (torch.sigmoid(x))\n",
    "\n",
    "net = nn.Sequential(\n",
    "        nn.Linear(10, 32),\n",
    "        Swish(),\n",
    "        nn.Linear(32, 1)\n",
    ")\n",
    "\n",
    "loss_fs = nn.MSELoss()\n",
    "optimizer = optim.Adam(net.parameters())\n",
    "\n",
    "# epochs\n",
    "optimizer.zero_grad()\n",
    "    \n",
    "y_pred = net(x)\n",
    "loss = loss_fs(y_pred, y)\n",
    "\n",
    "loss.backward()\n",
    "\n",
    "optimizer.step()\n",
    "print(loss)"
   ]
  },
  {
   "cell_type": "markdown",
   "metadata": {},
   "source": [
    "## SELU"
   ]
  },
  {
   "cell_type": "code",
   "execution_count": 6,
   "metadata": {},
   "outputs": [
    {
     "name": "stdout",
     "output_type": "stream",
     "text": [
      "tensor(1.2963, grad_fn=<MseLossBackward>)\n"
     ]
    }
   ],
   "source": [
    "net = nn.Sequential(\n",
    "        nn.Linear(10, 32),\n",
    "        nn.SELU(),\n",
    "        nn.Linear(32, 1)\n",
    ")\n",
    "\n",
    "loss_fs = nn.MSELoss()\n",
    "optimizer = optim.Adam(net.parameters())\n",
    "\n",
    "# epochs\n",
    "optimizer.zero_grad()\n",
    "    \n",
    "y_pred = net(x)\n",
    "loss = loss_fs(y_pred, y)\n",
    "\n",
    "loss.backward()\n",
    "\n",
    "optimizer.step()\n",
    "print(loss)"
   ]
  },
  {
   "cell_type": "markdown",
   "metadata": {},
   "source": [
    "## GELU"
   ]
  },
  {
   "cell_type": "code",
   "execution_count": 7,
   "metadata": {
    "scrolled": true
   },
   "outputs": [
    {
     "name": "stdout",
     "output_type": "stream",
     "text": [
      "tensor(1.1068, grad_fn=<MseLossBackward>)\n"
     ]
    }
   ],
   "source": [
    "class GELU(nn.Module):\n",
    "    def __init__(self):\n",
    "        super(GELU, self).__init__()\n",
    "\n",
    "    def forward(self, x):\n",
    "        return 0.5*x*(1+torch.tanh(np.sqrt(2/np.pi)*(x+0.044715*F.pow(x, 3))))\n",
    "\n",
    "net = nn.Sequential(\n",
    "        nn.Linear(10, 32),\n",
    "        Swish(),\n",
    "        nn.Linear(32, 1)\n",
    ")\n",
    "\n",
    "loss_fs = nn.MSELoss()\n",
    "optimizer = optim.Adam(net.parameters())\n",
    "\n",
    "# epochs\n",
    "optimizer.zero_grad()\n",
    "    \n",
    "y_pred = net(x)\n",
    "loss = loss_fs(y_pred, y)\n",
    "\n",
    "loss.backward()\n",
    "\n",
    "optimizer.step()\n",
    "print(loss)"
   ]
  },
  {
   "cell_type": "markdown",
   "metadata": {},
   "source": [
    "## MISH"
   ]
  },
  {
   "cell_type": "code",
   "execution_count": 8,
   "metadata": {},
   "outputs": [
    {
     "name": "stdout",
     "output_type": "stream",
     "text": [
      "tensor(1.1780, grad_fn=<MseLossBackward>)\n"
     ]
    }
   ],
   "source": [
    "class Mish(nn.Module):\n",
    "    def __init__(self):\n",
    "        super(Mish, self).__init__()\n",
    "\n",
    "    def forward(self, x):\n",
    "        return x * torch.tanh(F.softplus(x))\n",
    "\n",
    "net = nn.Sequential(\n",
    "        nn.Linear(10, 32),\n",
    "        Mish(),\n",
    "        nn.Linear(32, 1)\n",
    ")\n",
    "\n",
    "loss_fs = nn.MSELoss()\n",
    "optimizer = optim.Adam(net.parameters())\n",
    "\n",
    "# epochs\n",
    "optimizer.zero_grad()\n",
    "    \n",
    "y_pred = net(x)\n",
    "loss = loss_fs(y_pred, y)\n",
    "\n",
    "loss.backward()\n",
    "\n",
    "optimizer.step()\n",
    "print(loss)"
   ]
  }
 ],
 "metadata": {
  "kernelspec": {
   "display_name": "Python 3",
   "language": "python",
   "name": "python3"
  },
  "language_info": {
   "codemirror_mode": {
    "name": "ipython",
    "version": 3
   },
   "file_extension": ".py",
   "mimetype": "text/x-python",
   "name": "python",
   "nbconvert_exporter": "python",
   "pygments_lexer": "ipython3",
   "version": "3.7.7"
  },
  "toc": {
   "base_numbering": 1,
   "nav_menu": {},
   "number_sections": true,
   "sideBar": true,
   "skip_h1_title": false,
   "title_cell": "Table of Contents",
   "title_sidebar": "Contents",
   "toc_cell": false,
   "toc_position": {},
   "toc_section_display": true,
   "toc_window_display": false
  }
 },
 "nbformat": 4,
 "nbformat_minor": 4
}
