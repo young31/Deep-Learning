{
 "cells": [
  {
   "cell_type": "code",
   "execution_count": 1,
   "metadata": {},
   "outputs": [
    {
     "name": "stderr",
     "output_type": "stream",
     "text": [
      "Using TensorFlow backend.\n"
     ]
    }
   ],
   "source": [
    "import keras\n",
    "import numpy as np"
   ]
  },
  {
   "cell_type": "code",
   "execution_count": 2,
   "metadata": {},
   "outputs": [],
   "source": [
    "from keras.datasets import mnist\n",
    "\n",
    "(train_x, train_y), (test_x, test_y) = mnist.load_data()"
   ]
  },
  {
   "cell_type": "code",
   "execution_count": 3,
   "metadata": {},
   "outputs": [],
   "source": [
    "train_x = np.reshape(train_x, (60000, 28, 28, 1))/255\n",
    "test_x = np.reshape(test_x, (10000, 28, 28, 1))/255"
   ]
  },
  {
   "cell_type": "code",
   "execution_count": 4,
   "metadata": {},
   "outputs": [],
   "source": [
    "train_y = keras.utils.to_categorical(train_y)\n",
    "test_y = keras.utils.to_categorical(test_y)"
   ]
  },
  {
   "cell_type": "code",
   "execution_count": 5,
   "metadata": {},
   "outputs": [],
   "source": [
    "from keras import models, layers\n",
    "\n",
    "def build_model():\n",
    "\n",
    "    model = models.Sequential()\n",
    "\n",
    "    model.add(layers.Conv2D(filters=128, kernel_size=3, input_shape=(28,28,1), activation='relu'))\n",
    "    model.add(layers.Conv2D(filters=128, kernel_size=3, activation='relu'))\n",
    "    model.add(layers.MaxPool2D(2))\n",
    "    model.add(layers.Conv2D(filters=128, kernel_size=3, activation='relu'))\n",
    "    model.add(layers.Flatten())\n",
    "    model.add(layers.Dense(256, activation='relu'))\n",
    "    model.add(layers.Dense(10, activation='softmax'))\n",
    "\n",
    "    model.compile(optimizer=keras.optimizers.rmsprop(lr=1e-4),\n",
    "                 loss='categorical_crossentropy',\n",
    "                 metrics=['acc'])\n",
    "    return model"
   ]
  },
  {
   "cell_type": "code",
   "execution_count": 6,
   "metadata": {},
   "outputs": [
    {
     "name": "stdout",
     "output_type": "stream",
     "text": [
      "WARNING:tensorflow:From C:\\Users\\young\\Anaconda3\\lib\\site-packages\\tensorflow\\python\\framework\\op_def_library.py:263: colocate_with (from tensorflow.python.framework.ops) is deprecated and will be removed in a future version.\n",
      "Instructions for updating:\n",
      "Colocations handled automatically by placer.\n",
      "WARNING:tensorflow:From C:\\Users\\young\\Anaconda3\\lib\\site-packages\\tensorflow\\python\\ops\\math_ops.py:3066: to_int32 (from tensorflow.python.ops.math_ops) is deprecated and will be removed in a future version.\n",
      "Instructions for updating:\n",
      "Use tf.cast instead.\n",
      "Epoch 1/3\n",
      "45000/45000 [==============================] - 10s 229us/step - loss: 0.2882 - acc: 0.9166\n",
      "Epoch 2/3\n",
      "45000/45000 [==============================] - 7s 152us/step - loss: 0.0734 - acc: 0.9780\n",
      "Epoch 3/3\n",
      "45000/45000 [==============================] - 7s 151us/step - loss: 0.0470 - acc: 0.9858\n",
      "15000/15000 [==============================] - 1s 88us/step\n",
      "15000/15000 [==============================] - 1s 82us/step\n",
      "Epoch 1/3\n",
      "45000/45000 [==============================] - 7s 159us/step - loss: 0.2908 - acc: 0.9141\n",
      "Epoch 2/3\n",
      "45000/45000 [==============================] - 7s 151us/step - loss: 0.0754 - acc: 0.9769\n",
      "Epoch 3/3\n",
      "45000/45000 [==============================] - 7s 151us/step - loss: 0.0469 - acc: 0.9856\n",
      "15000/15000 [==============================] - 1s 84us/step\n",
      "15000/15000 [==============================] - 1s 81us/step\n",
      "Epoch 1/3\n",
      "45000/45000 [==============================] - 7s 159us/step - loss: 0.2919 - acc: 0.9139\n",
      "Epoch 2/3\n",
      "45000/45000 [==============================] - 7s 151us/step - loss: 0.0741 - acc: 0.9779\n",
      "Epoch 3/3\n",
      "45000/45000 [==============================] - 7s 151us/step - loss: 0.0478 - acc: 0.9860\n",
      "15000/15000 [==============================] - 1s 85us/step\n",
      "15000/15000 [==============================] - 1s 82us/step\n",
      "Epoch 1/3\n",
      "45000/45000 [==============================] - 7s 159us/step - loss: 0.3025 - acc: 0.9099\n",
      "Epoch 2/3\n",
      "45000/45000 [==============================] - 7s 150us/step - loss: 0.0756 - acc: 0.9768\n",
      "Epoch 3/3\n",
      "45000/45000 [==============================] - 7s 151us/step - loss: 0.0474 - acc: 0.9854\n",
      "15000/15000 [==============================] - 1s 87us/step\n",
      "15000/15000 [==============================] - 1s 82us/step\n"
     ]
    }
   ],
   "source": [
    "from sklearn.model_selection import KFold\n",
    "\n",
    "k = 4\n",
    "kfold = KFold(n_splits=k, shuffle=True)\n",
    "score=[[], []]\n",
    "\n",
    "for train, val in kfold.split(train_x, train_y):\n",
    "    model = build_model()\n",
    "    history = model.fit(train_x[train], train_y[train],\n",
    "                       epochs=3,\n",
    "                       batch_size=128)\n",
    "    score[0].append(model.evaluate(train_x[val],train_y[val])[0])\n",
    "    score[1].append(model.evaluate(train_x[val],train_y[val])[1])"
   ]
  },
  {
   "cell_type": "code",
   "execution_count": 8,
   "metadata": {},
   "outputs": [
    {
     "name": "stdout",
     "output_type": "stream",
     "text": [
      "10000/10000 [==============================] - 1s 92us/step\n"
     ]
    },
    {
     "data": {
      "text/plain": [
       "[0.04043842907904182, 0.9876]"
      ]
     },
     "execution_count": 8,
     "metadata": {},
     "output_type": "execute_result"
    }
   ],
   "source": [
    "model.evaluate(test_x,test_y)"
   ]
  },
  {
   "cell_type": "code",
   "execution_count": 11,
   "metadata": {},
   "outputs": [
    {
     "data": {
      "text/plain": [
       "[[0.07741992281861604,\n",
       "  0.0670893296447893,\n",
       "  0.05004853266046072,\n",
       "  0.04905745477906118],\n",
       " [0.9777333333333333, 0.9794666666666667, 0.985, 0.9862666666348775]]"
      ]
     },
     "execution_count": 11,
     "metadata": {},
     "output_type": "execute_result"
    }
   ],
   "source": [
    "score"
   ]
  },
  {
   "cell_type": "code",
   "execution_count": 13,
   "metadata": {},
   "outputs": [
    {
     "data": {
      "text/plain": [
       "0.9821166666587194"
      ]
     },
     "execution_count": 13,
     "metadata": {},
     "output_type": "execute_result"
    }
   ],
   "source": [
    "sum(score[1])/4"
   ]
  },
  {
   "cell_type": "code",
   "execution_count": null,
   "metadata": {},
   "outputs": [],
   "source": []
  }
 ],
 "metadata": {
  "kernelspec": {
   "display_name": "Python 3",
   "language": "python",
   "name": "python3"
  },
  "language_info": {
   "codemirror_mode": {
    "name": "ipython",
    "version": 3
   },
   "file_extension": ".py",
   "mimetype": "text/x-python",
   "name": "python",
   "nbconvert_exporter": "python",
   "pygments_lexer": "ipython3",
   "version": "3.7.3"
  },
  "toc": {
   "base_numbering": 1,
   "nav_menu": {},
   "number_sections": true,
   "sideBar": true,
   "skip_h1_title": false,
   "title_cell": "Table of Contents",
   "title_sidebar": "Contents",
   "toc_cell": false,
   "toc_position": {},
   "toc_section_display": true,
   "toc_window_display": false
  }
 },
 "nbformat": 4,
 "nbformat_minor": 2
}
