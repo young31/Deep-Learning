{
 "cells": [
  {
   "cell_type": "code",
   "execution_count": 1,
   "metadata": {},
   "outputs": [
    {
     "name": "stderr",
     "output_type": "stream",
     "text": [
      "Using TensorFlow backend.\n"
     ]
    }
   ],
   "source": [
    "import keras\n",
    "import numpy as np\n",
    "import pandas as pd"
   ]
  },
  {
   "cell_type": "code",
   "execution_count": 2,
   "metadata": {},
   "outputs": [],
   "source": [
    "raw_data = pd.read_csv('C:/Users/young/Desktop/R/download/004170.csv', thousands=',')"
   ]
  },
  {
   "cell_type": "code",
   "execution_count": 3,
   "metadata": {
    "scrolled": true
   },
   "outputs": [
    {
     "data": {
      "text/html": [
       "<div>\n",
       "<style scoped>\n",
       "    .dataframe tbody tr th:only-of-type {\n",
       "        vertical-align: middle;\n",
       "    }\n",
       "\n",
       "    .dataframe tbody tr th {\n",
       "        vertical-align: top;\n",
       "    }\n",
       "\n",
       "    .dataframe thead th {\n",
       "        text-align: right;\n",
       "    }\n",
       "</style>\n",
       "<table border=\"1\" class=\"dataframe\">\n",
       "  <thead>\n",
       "    <tr style=\"text-align: right;\">\n",
       "      <th></th>\n",
       "      <th>date</th>\n",
       "      <th>open</th>\n",
       "      <th>high</th>\n",
       "      <th>low</th>\n",
       "      <th>close</th>\n",
       "      <th>vol</th>\n",
       "      <th>per</th>\n",
       "      <th>pbr</th>\n",
       "    </tr>\n",
       "  </thead>\n",
       "  <tbody>\n",
       "    <tr>\n",
       "      <th>0</th>\n",
       "      <td>2006-01-02</td>\n",
       "      <td>290493</td>\n",
       "      <td>290493</td>\n",
       "      <td>287210</td>\n",
       "      <td>288523</td>\n",
       "      <td>79190</td>\n",
       "      <td>3790</td>\n",
       "      <td>689</td>\n",
       "    </tr>\n",
       "    <tr>\n",
       "      <th>1</th>\n",
       "      <td>2006-01-03</td>\n",
       "      <td>288852</td>\n",
       "      <td>300012</td>\n",
       "      <td>287539</td>\n",
       "      <td>299684</td>\n",
       "      <td>53337</td>\n",
       "      <td>3937</td>\n",
       "      <td>716</td>\n",
       "    </tr>\n",
       "    <tr>\n",
       "      <th>2</th>\n",
       "      <td>2006-01-04</td>\n",
       "      <td>301981</td>\n",
       "      <td>322004</td>\n",
       "      <td>299684</td>\n",
       "      <td>318722</td>\n",
       "      <td>105611</td>\n",
       "      <td>4187</td>\n",
       "      <td>761</td>\n",
       "    </tr>\n",
       "    <tr>\n",
       "      <th>3</th>\n",
       "      <td>2006-01-05</td>\n",
       "      <td>321019</td>\n",
       "      <td>322332</td>\n",
       "      <td>314126</td>\n",
       "      <td>320034</td>\n",
       "      <td>59538</td>\n",
       "      <td>4204</td>\n",
       "      <td>765</td>\n",
       "    </tr>\n",
       "    <tr>\n",
       "      <th>4</th>\n",
       "      <td>2006-01-06</td>\n",
       "      <td>321676</td>\n",
       "      <td>322332</td>\n",
       "      <td>313798</td>\n",
       "      <td>322332</td>\n",
       "      <td>45643</td>\n",
       "      <td>4234</td>\n",
       "      <td>770</td>\n",
       "    </tr>\n",
       "  </tbody>\n",
       "</table>\n",
       "</div>"
      ],
      "text/plain": [
       "         date    open    high     low   close     vol   per  pbr\n",
       "0  2006-01-02  290493  290493  287210  288523   79190  3790  689\n",
       "1  2006-01-03  288852  300012  287539  299684   53337  3937  716\n",
       "2  2006-01-04  301981  322004  299684  318722  105611  4187  761\n",
       "3  2006-01-05  321019  322332  314126  320034   59538  4204  765\n",
       "4  2006-01-06  321676  322332  313798  322332   45643  4234  770"
      ]
     },
     "execution_count": 3,
     "metadata": {},
     "output_type": "execute_result"
    }
   ],
   "source": [
    "raw_data[:5]"
   ]
  },
  {
   "cell_type": "code",
   "execution_count": 4,
   "metadata": {
    "scrolled": true
   },
   "outputs": [],
   "source": [
    "data = pd.concat([raw_data['open'],raw_data['vol'],raw_data['per'],raw_data['pbr']],axis=1)"
   ]
  },
  {
   "cell_type": "code",
   "execution_count": 5,
   "metadata": {},
   "outputs": [],
   "source": [
    "moving = pd.Series()\n",
    "for cat in data.columns:\n",
    "    for i in (5, 10, 30, 60):\n",
    "        moving = pd.concat([moving, data[cat].rolling(i).mean()], axis=1)"
   ]
  },
  {
   "cell_type": "code",
   "execution_count": 6,
   "metadata": {
    "scrolled": true
   },
   "outputs": [],
   "source": [
    "moving.columns = ['0', 'moving_p5','moving_p10','moving_p30','moving_p60',\n",
    "                  'moving_vol5','moving_vol10','moving_vol30','moving_vol60',\n",
    "                  'moving_per5','moving_per10','moving_per30','moving_per60',\n",
    "                  'moving_pbr5','moving_pbr10','moving_pbr30','moving_pbr60']"
   ]
  },
  {
   "cell_type": "code",
   "execution_count": 7,
   "metadata": {},
   "outputs": [],
   "source": [
    "moving = pd.concat([moving, data.open], axis=1)"
   ]
  },
  {
   "cell_type": "code",
   "execution_count": 8,
   "metadata": {},
   "outputs": [],
   "source": [
    "moving = moving[moving.columns[1:]]"
   ]
  },
  {
   "cell_type": "code",
   "execution_count": 9,
   "metadata": {},
   "outputs": [],
   "source": [
    "moving = moving[61:]"
   ]
  },
  {
   "cell_type": "code",
   "execution_count": 10,
   "metadata": {},
   "outputs": [],
   "source": [
    "rn = round(len(moving)*0.7)\n",
    "train = moving[:rn]\n",
    "test = moving[rn+1:]"
   ]
  },
  {
   "cell_type": "code",
   "execution_count": 11,
   "metadata": {
    "scrolled": true
   },
   "outputs": [],
   "source": [
    "train = (train-np.mean(train)) / np.std(train)\n",
    "test = (test-np.mean(test)) / np.std(test)"
   ]
  },
  {
   "cell_type": "code",
   "execution_count": 12,
   "metadata": {},
   "outputs": [],
   "source": [
    "train_x = train[train.columns[:-1]]\n",
    "train_y = train['open']\n",
    "\n",
    "test_x = test[test.columns[:-1]]\n",
    "test_y = test['open']"
   ]
  },
  {
   "cell_type": "code",
   "execution_count": 13,
   "metadata": {
    "scrolled": true
   },
   "outputs": [],
   "source": [
    "lag = 30\n",
    "trx = []\n",
    "\n",
    "for i in range(len(train_x)-lag):\n",
    "    trx.append(np.reshape(np.array(train_x[i:i+lag]), (lag,16)))\n",
    "train_x = np.reshape(trx, (len(trx), lag, 16))\n",
    "\n",
    "train_y = train_y[lag:]"
   ]
  },
  {
   "cell_type": "code",
   "execution_count": 14,
   "metadata": {},
   "outputs": [],
   "source": [
    "tex = []\n",
    "\n",
    "for i in range(len(test_x)-lag):\n",
    "    tex.append(np.reshape(np.array(test_x[i:i+lag]), (lag,16)))\n",
    "test_x = np.reshape(tex, (len(tex), lag, 16))\n",
    "\n",
    "test_y = test_y[lag:]"
   ]
  },
  {
   "cell_type": "code",
   "execution_count": 33,
   "metadata": {
    "scrolled": true
   },
   "outputs": [],
   "source": [
    "from keras import models, layers\n",
    "\n",
    "model = models.Sequential()\n",
    "\n",
    "model.add(layers.GRU(128, input_shape=(lag,16), return_sequences=True, activation='relu'))\n",
    "model.add(layers.GRU(128, return_sequences=False, activation='relu'))\n",
    "model.add(layers.Dense(1))\n",
    "\n",
    "model.compile(optimizer = 'adam',\n",
    "             loss = 'mse',\n",
    "             metrics=['mae'])"
   ]
  },
  {
   "cell_type": "code",
   "execution_count": 35,
   "metadata": {},
   "outputs": [],
   "source": [
    "from keras import models, layers\n",
    "\n",
    "model = models.Sequential()\n",
    "\n",
    "model.add(layers.Conv1D(32, kernel_size=3, input_shape=(lag,16), activation='relu'))\n",
    "model.add(layers.MaxPooling1D(2))\n",
    "model.add(layers.Conv1D(64, kernel_size=3, activation='relu'))\n",
    "model.add(layers.MaxPooling1D())\n",
    "model.add(layers.Conv1D(64, kernel_size=3, activation='relu'))\n",
    "model.add(layers.GlobalAveragePooling1D())\n",
    "model.add(layers.Dense(1))\n",
    "\n",
    "model.compile(optimizer = 'adam',\n",
    "             loss = 'mse',\n",
    "             metrics=['mae'])"
   ]
  },
  {
   "cell_type": "code",
   "execution_count": 31,
   "metadata": {},
   "outputs": [],
   "source": [
    "from keras import models, layers\n",
    "\n",
    "model = models.Sequential()\n",
    "\n",
    "model.add(layers.GRU(128, input_shape=(30,16), return_sequences=True, activation='relu'))\n",
    "model.add(layers.Bidirectional(layers.GRU(128, activation='relu', return_sequences=True)))\n",
    "model.add(layers.GRU(128, return_sequences=False))\n",
    "model.add(layers.Dense(1))\n",
    "\n",
    "model.compile(optimizer = 'adam',\n",
    "             loss = 'mse',\n",
    "             metrics=['mae'])"
   ]
  },
  {
   "cell_type": "code",
   "execution_count": 36,
   "metadata": {
    "scrolled": true
   },
   "outputs": [
    {
     "name": "stdout",
     "output_type": "stream",
     "text": [
      "Train on 1790 samples, validate on 448 samples\n",
      "Epoch 1/10\n",
      "1790/1790 [==============================] - 1s 727us/step - loss: 0.4511 - mean_absolute_error: 0.5485 - val_loss: 0.5713 - val_mean_absolute_error: 0.6783\n",
      "Epoch 2/10\n",
      "1790/1790 [==============================] - 0s 18us/step - loss: 0.1721 - mean_absolute_error: 0.3414 - val_loss: 0.1087 - val_mean_absolute_error: 0.2591\n",
      "Epoch 3/10\n",
      "1790/1790 [==============================] - 0s 26us/step - loss: 0.1277 - mean_absolute_error: 0.2767 - val_loss: 0.0823 - val_mean_absolute_error: 0.2254\n",
      "Epoch 4/10\n",
      "1790/1790 [==============================] - 0s 24us/step - loss: 0.0919 - mean_absolute_error: 0.2359 - val_loss: 0.1436 - val_mean_absolute_error: 0.3166\n",
      "Epoch 5/10\n",
      "1790/1790 [==============================] - 0s 26us/step - loss: 0.0921 - mean_absolute_error: 0.2379 - val_loss: 0.0631 - val_mean_absolute_error: 0.2006\n",
      "Epoch 6/10\n",
      "1790/1790 [==============================] - 0s 26us/step - loss: 0.0823 - mean_absolute_error: 0.2224 - val_loss: 0.0641 - val_mean_absolute_error: 0.2040\n",
      "Epoch 7/10\n",
      "1790/1790 [==============================] - 0s 28us/step - loss: 0.0760 - mean_absolute_error: 0.2133 - val_loss: 0.0945 - val_mean_absolute_error: 0.2550\n",
      "Epoch 8/10\n",
      "1790/1790 [==============================] - 0s 27us/step - loss: 0.0707 - mean_absolute_error: 0.2051 - val_loss: 0.0733 - val_mean_absolute_error: 0.2214\n",
      "Epoch 9/10\n",
      "1790/1790 [==============================] - 0s 25us/step - loss: 0.0674 - mean_absolute_error: 0.1965 - val_loss: 0.0710 - val_mean_absolute_error: 0.2182\n",
      "Epoch 10/10\n",
      "1790/1790 [==============================] - 0s 23us/step - loss: 0.0645 - mean_absolute_error: 0.1922 - val_loss: 0.0802 - val_mean_absolute_error: 0.2340\n"
     ]
    }
   ],
   "source": [
    "histroy = model.fit(train_x, train_y,\n",
    "                   epochs=10,\n",
    "                    batch_size=512,\n",
    "                    validation_split=0.2\n",
    "                   )"
   ]
  },
  {
   "cell_type": "code",
   "execution_count": null,
   "metadata": {},
   "outputs": [],
   "source": []
  }
 ],
 "metadata": {
  "kernelspec": {
   "display_name": "Python 3",
   "language": "python",
   "name": "python3"
  },
  "language_info": {
   "codemirror_mode": {
    "name": "ipython",
    "version": 3
   },
   "file_extension": ".py",
   "mimetype": "text/x-python",
   "name": "python",
   "nbconvert_exporter": "python",
   "pygments_lexer": "ipython3",
   "version": "3.7.3"
  },
  "toc": {
   "base_numbering": 1,
   "nav_menu": {},
   "number_sections": true,
   "sideBar": true,
   "skip_h1_title": false,
   "title_cell": "Table of Contents",
   "title_sidebar": "Contents",
   "toc_cell": false,
   "toc_position": {},
   "toc_section_display": true,
   "toc_window_display": false
  }
 },
 "nbformat": 4,
 "nbformat_minor": 2
}
