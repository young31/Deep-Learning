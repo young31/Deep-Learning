{
 "cells": [
  {
   "cell_type": "code",
   "execution_count": 1,
   "metadata": {},
   "outputs": [
    {
     "name": "stderr",
     "output_type": "stream",
     "text": [
      "Using TensorFlow backend.\n"
     ]
    }
   ],
   "source": [
    "import keras\n",
    "import numpy as np\n",
    "import pandas as pd"
   ]
  },
  {
   "cell_type": "code",
   "execution_count": 2,
   "metadata": {},
   "outputs": [],
   "source": [
    "data = pd.read_csv('C:/Users/young/Desktop/R/spam.csv', encoding='utf-8')"
   ]
  },
  {
   "cell_type": "code",
   "execution_count": 3,
   "metadata": {
    "scrolled": true
   },
   "outputs": [],
   "source": [
    "train_x = data.v2\n",
    "train_y = data.v1"
   ]
  },
  {
   "cell_type": "code",
   "execution_count": 4,
   "metadata": {},
   "outputs": [
    {
     "name": "stderr",
     "output_type": "stream",
     "text": [
      "C:\\Users\\young\\Anaconda3\\lib\\site-packages\\ipykernel_launcher.py:13: SettingWithCopyWarning: \n",
      "A value is trying to be set on a copy of a slice from a DataFrame\n",
      "\n",
      "See the caveats in the documentation: http://pandas.pydata.org/pandas-docs/stable/indexing.html#indexing-view-versus-copy\n",
      "  del sys.path[0]\n",
      "C:\\Users\\young\\Anaconda3\\lib\\site-packages\\ipykernel_launcher.py:15: SettingWithCopyWarning: \n",
      "A value is trying to be set on a copy of a slice from a DataFrame\n",
      "\n",
      "See the caveats in the documentation: http://pandas.pydata.org/pandas-docs/stable/indexing.html#indexing-view-versus-copy\n",
      "  from ipykernel import kernelapp as app\n"
     ]
    }
   ],
   "source": [
    "from keras.preprocessing import text, sequence\n",
    "maxfeaures = 500\n",
    "tokenizer = text.Tokenizer(num_words=None)\n",
    "tokenizer.fit_on_texts(train_x)\n",
    "\n",
    "seq_text = tokenizer.texts_to_sequences(train_x)\n",
    "\n",
    "max_len = 100\n",
    "train_x = sequence.pad_sequences(seq_text, max_len)\n",
    "\n",
    "for i in range(len(train_y)):\n",
    "    if train_y[i] == 'ham':\n",
    "        train_y[i] = 0\n",
    "    else:\n",
    "        train_y[i] = 1\n",
    "        \n",
    "train_y = keras.utils.to_categorical(train_y)"
   ]
  },
  {
   "cell_type": "code",
   "execution_count": 5,
   "metadata": {},
   "outputs": [
    {
     "name": "stdout",
     "output_type": "stream",
     "text": [
      "WARNING:tensorflow:From C:\\Users\\young\\Anaconda3\\lib\\site-packages\\tensorflow\\python\\framework\\op_def_library.py:263: colocate_with (from tensorflow.python.framework.ops) is deprecated and will be removed in a future version.\n",
      "Instructions for updating:\n",
      "Colocations handled automatically by placer.\n",
      "WARNING:tensorflow:From C:\\Users\\young\\Anaconda3\\lib\\site-packages\\tensorflow\\python\\ops\\math_ops.py:3066: to_int32 (from tensorflow.python.ops.math_ops) is deprecated and will be removed in a future version.\n",
      "Instructions for updating:\n",
      "Use tf.cast instead.\n",
      "Train on 4457 samples, validate on 1115 samples\n",
      "Epoch 1/5\n",
      "4457/4457 [==============================] - 7s 2ms/step - loss: 0.6466 - acc: 0.8281 - val_loss: 0.5915 - val_acc: 0.8700\n",
      "Epoch 2/5\n",
      "4457/4457 [==============================] - 5s 1ms/step - loss: 0.5310 - acc: 0.8649 - val_loss: 0.4322 - val_acc: 0.8700\n",
      "Epoch 3/5\n",
      "4457/4457 [==============================] - 5s 1ms/step - loss: 0.4064 - acc: 0.8649 - val_loss: 0.3915 - val_acc: 0.8700\n",
      "Epoch 4/5\n",
      "4457/4457 [==============================] - 5s 1ms/step - loss: 0.3984 - acc: 0.8649 - val_loss: 0.3865 - val_acc: 0.8700\n",
      "Epoch 5/5\n",
      "4457/4457 [==============================] - 5s 1ms/step - loss: 0.3983 - acc: 0.8649 - val_loss: 0.4602 - val_acc: 0.8700\n"
     ]
    }
   ],
   "source": [
    "from keras import models, layers\n",
    "\n",
    "model = models.Sequential()\n",
    "model.add(layers.Embedding(input_dim=5572, output_dim=32, input_length=100))\n",
    "model.add(layers.GRU(32, activation='relu', return_sequences=True))\n",
    "model.add(layers.GRU(32, activation='relu'))\n",
    "model.add(layers.Dense(2, activation='softmax'))\n",
    "\n",
    "model.compile(optimizer='rmsprop',\n",
    "             loss='categorical_crossentropy',\n",
    "             metrics=['acc'])\n",
    "\n",
    "history = model.fit(train_x, train_y,\n",
    "        epochs=5,\n",
    "         batch_size=256,\n",
    "         validation_split=0.2)"
   ]
  },
  {
   "cell_type": "code",
   "execution_count": 6,
   "metadata": {},
   "outputs": [
    {
     "name": "stdout",
     "output_type": "stream",
     "text": [
      "Train on 4457 samples, validate on 1115 samples\n",
      "Epoch 1/5\n",
      "4457/4457 [==============================] - 3s 630us/step - loss: 0.4404 - acc: 0.8649 - val_loss: 0.3874 - val_acc: 0.8700\n",
      "Epoch 2/5\n",
      "4457/4457 [==============================] - 0s 24us/step - loss: 0.3450 - acc: 0.8665 - val_loss: 0.2585 - val_acc: 0.8798\n",
      "Epoch 3/5\n",
      "4457/4457 [==============================] - 0s 22us/step - loss: 0.1698 - acc: 0.9435 - val_loss: 0.1105 - val_acc: 0.9704\n",
      "Epoch 4/5\n",
      "4457/4457 [==============================] - 0s 21us/step - loss: 0.1031 - acc: 0.9713 - val_loss: 0.0888 - val_acc: 0.9749\n",
      "Epoch 5/5\n",
      "4457/4457 [==============================] - 0s 21us/step - loss: 0.0762 - acc: 0.9785 - val_loss: 0.0852 - val_acc: 0.9767\n"
     ]
    }
   ],
   "source": [
    "from keras import models, layers\n",
    "\n",
    "model = models.Sequential()\n",
    "model.add(layers.Embedding(input_dim=5572, output_dim=32, input_length=100))\n",
    "model.add(layers.Conv1D(32, 5, activation='relu'))\n",
    "model.add(layers.Conv1D(32, 5, activation='relu'))\n",
    "model.add(layers.MaxPool1D(3))\n",
    "model.add(layers.Conv1D(32, 5, activation='relu'))\n",
    "model.add(layers.Conv1D(32, 5, activation='relu'))\n",
    "model.add(layers.MaxPool1D(3))\n",
    "model.add(layers.GlobalAveragePooling1D())\n",
    "model.add(layers.Dense(2, activation='softmax'))\n",
    "\n",
    "model.compile(optimizer='rmsprop',\n",
    "             loss='categorical_crossentropy',\n",
    "             metrics=['acc'])\n",
    "\n",
    "history = model.fit(train_x, train_y,\n",
    "        epochs=5,\n",
    "         batch_size=256,\n",
    "         validation_split=0.2)"
   ]
  },
  {
   "cell_type": "code",
   "execution_count": 7,
   "metadata": {},
   "outputs": [
    {
     "name": "stdout",
     "output_type": "stream",
     "text": [
      "Train on 4457 samples, validate on 1115 samples\n",
      "Epoch 1/5\n",
      "4457/4457 [==============================] - 3s 591us/step - loss: 0.4105 - acc: 0.8616 - val_loss: 0.2386 - val_acc: 0.8700\n",
      "Epoch 2/5\n",
      "4457/4457 [==============================] - 2s 340us/step - loss: 0.2526 - acc: 0.9230 - val_loss: 0.0833 - val_acc: 0.9776\n",
      "Epoch 3/5\n",
      "4457/4457 [==============================] - 1s 333us/step - loss: 0.0655 - acc: 0.9827 - val_loss: 0.0634 - val_acc: 0.9794\n",
      "Epoch 4/5\n",
      "4457/4457 [==============================] - 1s 335us/step - loss: 0.0437 - acc: 0.9897 - val_loss: 0.0589 - val_acc: 0.9839\n",
      "Epoch 5/5\n",
      "4457/4457 [==============================] - 1s 332us/step - loss: 0.0305 - acc: 0.9926 - val_loss: 0.0549 - val_acc: 0.9848\n"
     ]
    }
   ],
   "source": [
    "from keras import models, layers\n",
    "\n",
    "model = models.Sequential()\n",
    "model.add(layers.Embedding(input_dim=5572, output_dim=32, input_length=100))\n",
    "model.add(layers.Conv1D(32, 5, activation='relu'))\n",
    "model.add(layers.Conv1D(32, 5, activation='relu'))\n",
    "model.add(layers.MaxPool1D(3))\n",
    "model.add(layers.GRU(32, activation='relu', return_sequences=True))\n",
    "model.add(layers.GRU(32, activation='relu'))\n",
    "model.add(layers.Dense(2, activation='softmax'))\n",
    "\n",
    "model.compile(optimizer='rmsprop',\n",
    "             loss='categorical_crossentropy',\n",
    "             metrics=['acc'])\n",
    "\n",
    "history = model.fit(train_x, train_y,\n",
    "        epochs=5,\n",
    "         batch_size=256,\n",
    "         validation_split=0.2)"
   ]
  },
  {
   "cell_type": "code",
   "execution_count": null,
   "metadata": {},
   "outputs": [],
   "source": []
  }
 ],
 "metadata": {
  "kernelspec": {
   "display_name": "Python 3",
   "language": "python",
   "name": "python3"
  },
  "language_info": {
   "codemirror_mode": {
    "name": "ipython",
    "version": 3
   },
   "file_extension": ".py",
   "mimetype": "text/x-python",
   "name": "python",
   "nbconvert_exporter": "python",
   "pygments_lexer": "ipython3",
   "version": "3.7.3"
  },
  "toc": {
   "base_numbering": 1,
   "nav_menu": {},
   "number_sections": true,
   "sideBar": true,
   "skip_h1_title": false,
   "title_cell": "Table of Contents",
   "title_sidebar": "Contents",
   "toc_cell": false,
   "toc_position": {},
   "toc_section_display": true,
   "toc_window_display": false
  }
 },
 "nbformat": 4,
 "nbformat_minor": 2
}
