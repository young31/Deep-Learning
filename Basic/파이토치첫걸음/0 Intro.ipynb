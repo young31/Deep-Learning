{
 "cells": [
  {
   "cell_type": "code",
   "execution_count": 1,
   "metadata": {},
   "outputs": [],
   "source": [
    "# numpy와 구조와 유사\n"
   ]
  },
  {
   "cell_type": "code",
   "execution_count": 2,
   "metadata": {},
   "outputs": [],
   "source": [
    "import torch"
   ]
  },
  {
   "cell_type": "code",
   "execution_count": 3,
   "metadata": {},
   "outputs": [
    {
     "name": "stdout",
     "output_type": "stream",
     "text": [
      "tensor([[1, 2],\n",
      "        [3, 4]])\n"
     ]
    }
   ],
   "source": [
    "# array\n",
    "t = torch.tensor([[1, 2], [3, 4]])\n",
    "print(t)"
   ]
  },
  {
   "cell_type": "code",
   "execution_count": 4,
   "metadata": {},
   "outputs": [
    {
     "name": "stdout",
     "output_type": "stream",
     "text": [
      "tensor([[1, 2],\n",
      "        [3, 4]], device='cuda:0')\n"
     ]
    }
   ],
   "source": [
    "# device지정 가능\n",
    "t = torch.tensor([[1, 2], [3, 4]]).to('cuda')\n",
    "print(t)"
   ]
  },
  {
   "cell_type": "code",
   "execution_count": 5,
   "metadata": {},
   "outputs": [
    {
     "name": "stdout",
     "output_type": "stream",
     "text": [
      "tensor([[-0.5883, -0.1474, -0.7099, -1.4472, -1.0602],\n",
      "        [-1.2955,  0.3825, -0.5695,  1.1973, -0.3110],\n",
      "        [-0.9132,  0.5954,  1.1320, -0.0829,  0.4293],\n",
      "        [ 2.3079,  0.0471, -0.1226, -0.3316, -1.3072],\n",
      "        [ 0.5390,  0.1712,  0.2173,  0.3701,  2.4910],\n",
      "        [ 0.9170, -0.9865, -0.4171,  0.1479, -1.4853],\n",
      "        [-0.3761,  0.4062,  0.7181, -1.3299,  1.3960],\n",
      "        [-0.6728, -0.8166, -1.1655,  0.4529,  0.4060],\n",
      "        [-1.4782, -1.3895, -0.9368, -0.0076,  1.2932],\n",
      "        [-0.7273,  0.3605, -0.0262,  0.3513,  0.2505]], device='cuda:0')\n"
     ]
    }
   ],
   "source": [
    "# numpy식 활용\n",
    "t = torch.randn((10, 5), device='cuda:0')\n",
    "print(t)"
   ]
  },
  {
   "cell_type": "code",
   "execution_count": 6,
   "metadata": {},
   "outputs": [
    {
     "name": "stdout",
     "output_type": "stream",
     "text": [
      "tensor([0, 1, 2, 3, 4, 5, 6, 7, 8, 9])\n"
     ]
    }
   ],
   "source": [
    "t = torch.arange(10)\n",
    "print(t)\n"
   ]
  },
  {
   "cell_type": "code",
   "execution_count": 7,
   "metadata": {},
   "outputs": [
    {
     "name": "stdout",
     "output_type": "stream",
     "text": [
      "tensor([[0., 0., 0., 0., 0.],\n",
      "        [0., 0., 0., 0., 0.],\n",
      "        [0., 0., 0., 0., 0.],\n",
      "        [0., 0., 0., 0., 0.],\n",
      "        [0., 0., 0., 0., 0.],\n",
      "        [0., 0., 0., 0., 0.],\n",
      "        [0., 0., 0., 0., 0.],\n",
      "        [0., 0., 0., 0., 0.],\n",
      "        [0., 0., 0., 0., 0.],\n",
      "        [0., 0., 0., 0., 0.]], device='cuda:0')\n"
     ]
    }
   ],
   "source": [
    "t = torch.zeros((10, 5), device='cuda')\n",
    "print(t)"
   ]
  },
  {
   "cell_type": "code",
   "execution_count": 8,
   "metadata": {},
   "outputs": [
    {
     "data": {
      "text/plain": [
       "tensor([[ 0.5960, -1.5463,  0.4828, -0.5172,  0.0159],\n",
       "        [ 1.5150, -0.8969,  0.4426,  1.7285, -0.0045],\n",
       "        [ 1.0102, -1.0401, -1.8276, -0.3329, -0.7693],\n",
       "        [ 0.8269,  1.0692,  0.2010,  0.0701,  0.9364],\n",
       "        [ 1.7851, -2.3989,  0.5132,  2.1660,  0.8646],\n",
       "        [ 0.3569,  0.2197, -1.5368,  0.8422, -0.6610],\n",
       "        [-0.0400, -1.2425,  0.2685, -0.0042,  2.0364],\n",
       "        [-0.2930, -2.2015,  0.6197, -0.2731,  0.2771],\n",
       "        [-1.6907, -1.9589,  0.0139,  0.5474, -0.6932],\n",
       "        [-0.7808,  0.0067, -0.6201, -1.0121, -1.1787]])"
      ]
     },
     "execution_count": 8,
     "metadata": {},
     "output_type": "execute_result"
    }
   ],
   "source": [
    "# indexing\n",
    "arr = torch.randn((10, 5))\n",
    "arr"
   ]
  },
  {
   "cell_type": "code",
   "execution_count": 9,
   "metadata": {},
   "outputs": [
    {
     "data": {
      "text/plain": [
       "tensor([[-1.5463],\n",
       "        [-0.8969],\n",
       "        [-1.0401],\n",
       "        [ 1.0692],\n",
       "        [-2.3989]])"
      ]
     },
     "execution_count": 9,
     "metadata": {},
     "output_type": "execute_result"
    }
   ],
   "source": [
    "arr[0:5, 1:2]"
   ]
  },
  {
   "cell_type": "code",
   "execution_count": 10,
   "metadata": {},
   "outputs": [
    {
     "data": {
      "text/plain": [
       "tensor(1.7285)"
      ]
     },
     "execution_count": 10,
     "metadata": {},
     "output_type": "execute_result"
    }
   ],
   "source": [
    "arr[1, 3]"
   ]
  },
  {
   "cell_type": "code",
   "execution_count": 11,
   "metadata": {},
   "outputs": [
    {
     "data": {
      "text/plain": [
       "tensor(1.7285)"
      ]
     },
     "execution_count": 11,
     "metadata": {},
     "output_type": "execute_result"
    }
   ],
   "source": [
    "arr[1][3]"
   ]
  },
  {
   "cell_type": "code",
   "execution_count": 12,
   "metadata": {},
   "outputs": [
    {
     "data": {
      "text/plain": [
       "tensor([0.5960, 0.4828, 0.0159, 1.5150, 0.4426, 1.7285, 1.0102, 0.8269, 1.0692,\n",
       "        0.2010, 0.0701, 0.9364, 1.7851, 0.5132, 2.1660, 0.8646, 0.3569, 0.2197,\n",
       "        0.8422, 0.2685, 2.0364, 0.6197, 0.2771, 0.0139, 0.5474, 0.0067])"
      ]
     },
     "execution_count": 12,
     "metadata": {},
     "output_type": "execute_result"
    }
   ],
   "source": [
    "arr[arr > 0]"
   ]
  },
  {
   "cell_type": "code",
   "execution_count": 13,
   "metadata": {},
   "outputs": [],
   "source": [
    "# 대수연산\n",
    "# dot: 내적\n",
    "# mv: 행렬-벡터곱\n",
    "# mm: 행렬-행렬곱\n",
    "# matmul: auto모드\n"
   ]
  },
  {
   "cell_type": "code",
   "execution_count": 14,
   "metadata": {},
   "outputs": [
    {
     "name": "stdout",
     "output_type": "stream",
     "text": [
      "tensor([11., 10.,  3., 13.])\n"
     ]
    }
   ],
   "source": [
    "v = torch.Tensor([1, 2, 1, 3])\n",
    "m = torch.Tensor([\n",
    "    [1, 1, 2, 2],\n",
    "    [3, 1, 2, 1],\n",
    "    [1, 1, 0, 0],\n",
    "    [5, 2, 1, 1]\n",
    "])\n",
    "\n",
    "print(torch.mv(m, v))"
   ]
  },
  {
   "cell_type": "code",
   "execution_count": 15,
   "metadata": {},
   "outputs": [
    {
     "name": "stdout",
     "output_type": "stream",
     "text": [
      "tensor([23., 10.,  9.,  7.])\n",
      "tensor([11., 10.,  3., 13.])\n"
     ]
    }
   ],
   "source": [
    "print(torch.matmul(v, m))\n",
    "print(torch.matmul(m, v))"
   ]
  },
  {
   "cell_type": "code",
   "execution_count": null,
   "metadata": {},
   "outputs": [],
   "source": []
  }
 ],
 "metadata": {
  "kernelspec": {
   "display_name": "Python 3",
   "language": "python",
   "name": "python3"
  },
  "language_info": {
   "codemirror_mode": {
    "name": "ipython",
    "version": 3
   },
   "file_extension": ".py",
   "mimetype": "text/x-python",
   "name": "python",
   "nbconvert_exporter": "python",
   "pygments_lexer": "ipython3",
   "version": "3.7.7"
  },
  "toc": {
   "base_numbering": 1,
   "nav_menu": {},
   "number_sections": true,
   "sideBar": true,
   "skip_h1_title": false,
   "title_cell": "Table of Contents",
   "title_sidebar": "Contents",
   "toc_cell": false,
   "toc_position": {},
   "toc_section_display": true,
   "toc_window_display": false
  }
 },
 "nbformat": 4,
 "nbformat_minor": 4
}
