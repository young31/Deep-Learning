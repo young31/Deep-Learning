{
 "cells": [
  {
   "cell_type": "code",
   "execution_count": 1,
   "metadata": {},
   "outputs": [],
   "source": [
    "import torch"
   ]
  },
  {
   "cell_type": "code",
   "execution_count": 2,
   "metadata": {},
   "outputs": [],
   "source": [
    "# 직접 회귀 계수 구하기"
   ]
  },
  {
   "cell_type": "code",
   "execution_count": 3,
   "metadata": {
    "scrolled": true
   },
   "outputs": [
    {
     "name": "stdout",
     "output_type": "stream",
     "text": [
      "tensor([[ 1.0000, -1.1572, -1.0845, -1.7828,  0.3565,  0.2672],\n",
      "        [ 1.0000,  0.9213, -0.6774, -0.3983,  1.1189,  2.1574],\n",
      "        [ 1.0000,  2.2444, -1.9307,  0.0765, -0.1496,  1.4623],\n",
      "        [ 1.0000, -0.9813,  0.8498,  2.5386,  1.0391,  0.3734],\n",
      "        [ 1.0000,  1.2761,  0.3411,  0.9033, -0.8418, -1.7071],\n",
      "        [ 1.0000, -0.6629, -0.3486,  0.7401,  0.1764, -0.5760],\n",
      "        [ 1.0000,  0.2704, -1.6995, -1.1728,  1.0925, -1.1667],\n",
      "        [ 1.0000,  0.7881, -0.4468, -1.9288,  0.9339,  0.1695],\n",
      "        [ 1.0000, -1.6719,  1.7491,  0.0393,  1.1453,  0.6650],\n",
      "        [ 1.0000, -0.0783, -0.0635,  0.5962, -0.2701,  0.3108],\n",
      "        [ 1.0000,  0.4636, -0.3621, -1.1986, -1.2572, -0.7836],\n",
      "        [ 1.0000,  0.3297, -0.8777, -0.3349,  0.8884,  0.9263],\n",
      "        [ 1.0000, -0.2402,  0.1800, -1.6446,  0.3138,  1.6526],\n",
      "        [ 1.0000,  0.0929, -0.2375,  1.2742, -1.0490,  0.5946],\n",
      "        [ 1.0000, -0.0471, -1.1769,  0.3438, -0.1228, -0.1983],\n",
      "        [ 1.0000, -1.0277, -0.3794, -0.0428, -0.2993, -1.2931],\n",
      "        [ 1.0000,  2.1971, -0.4248, -0.6826,  0.6765,  0.5231],\n",
      "        [ 1.0000,  0.1008, -0.6136, -0.2767, -1.2152, -0.7518],\n",
      "        [ 1.0000, -0.3839,  0.2903,  0.2789,  0.1760,  0.3779],\n",
      "        [ 1.0000,  0.1662, -0.0704, -0.5628,  0.9473, -0.1298],\n",
      "        [ 1.0000,  0.2911, -0.3791,  1.5976, -0.2005, -0.9191],\n",
      "        [ 1.0000,  0.4009, -1.2937,  0.9834, -0.3729,  1.1292],\n",
      "        [ 1.0000,  0.3448, -0.8359, -0.0667,  0.9973,  0.5489],\n",
      "        [ 1.0000, -1.0295, -0.6654, -0.6367, -0.3277,  0.1438],\n",
      "        [ 1.0000, -1.3835,  0.2333,  0.4460, -1.3804, -0.0959],\n",
      "        [ 1.0000,  0.3836,  0.4372, -1.1698,  0.6328,  0.4535],\n",
      "        [ 1.0000,  0.2954, -0.0116, -0.3027,  0.9988, -0.4741],\n",
      "        [ 1.0000,  2.0063,  0.0625, -0.6515,  0.0164, -0.0184],\n",
      "        [ 1.0000,  0.1436,  0.7242,  2.8580,  1.5721,  1.0840],\n",
      "        [ 1.0000,  1.2326, -1.4657, -0.6005,  0.4945,  1.8173],\n",
      "        [ 1.0000,  3.0890,  0.6405,  1.9989,  0.7166, -0.1931],\n",
      "        [ 1.0000,  0.0241, -0.3360,  0.8717,  0.4924, -1.4600],\n",
      "        [ 1.0000, -0.9167, -2.1737,  0.0758, -2.1156, -1.0900],\n",
      "        [ 1.0000,  0.8027, -0.7568, -0.8380,  1.3363,  1.5435],\n",
      "        [ 1.0000,  0.8859,  0.6654,  1.3400, -1.2973,  0.5951],\n",
      "        [ 1.0000, -0.2521,  0.1179, -0.5087, -1.0541, -0.2781],\n",
      "        [ 1.0000, -1.9672,  0.4144, -0.0507,  0.3910, -1.5180],\n",
      "        [ 1.0000, -0.4172,  0.0491,  0.8443,  1.1873,  0.5401],\n",
      "        [ 1.0000,  0.8868, -0.8811, -1.3229, -0.0417, -2.0253],\n",
      "        [ 1.0000,  0.5811, -0.2312, -0.4850,  0.4967, -1.5612],\n",
      "        [ 1.0000, -1.5663,  0.3859,  0.5117, -0.0494,  0.2158],\n",
      "        [ 1.0000, -0.9041, -1.2218, -0.2232, -0.9167, -0.6230],\n",
      "        [ 1.0000,  0.6919, -0.2537, -0.6341,  0.1911,  0.7862],\n",
      "        [ 1.0000, -0.1666,  0.6544,  0.5519,  0.6615,  0.0643],\n",
      "        [ 1.0000,  0.8271,  1.1013, -0.1122, -1.1911, -0.4642],\n",
      "        [ 1.0000, -0.2881,  0.3848,  0.1107,  0.8079,  0.2315],\n",
      "        [ 1.0000,  0.8023, -1.8582,  1.7070,  1.1481, -0.0708],\n",
      "        [ 1.0000,  0.1492,  1.6422, -0.0647,  0.5415,  0.7525],\n",
      "        [ 1.0000, -0.6575, -0.0911, -1.7219,  0.6749,  0.4297],\n",
      "        [ 1.0000,  0.0385, -0.1841, -0.1930, -0.1895, -0.9839],\n",
      "        [ 1.0000, -0.8984,  0.6601,  0.9469, -1.0176, -1.4864],\n",
      "        [ 1.0000, -1.3820,  0.3255,  0.7779, -0.7710, -0.7302],\n",
      "        [ 1.0000, -0.9503, -0.0668, -1.6890, -0.0270, -0.1098],\n",
      "        [ 1.0000,  0.2848,  1.1965, -1.1957,  0.5609, -0.5853],\n",
      "        [ 1.0000, -0.3927,  1.3176, -0.5976,  0.3349,  0.9374],\n",
      "        [ 1.0000,  0.4910, -0.9399,  1.1350, -1.0427,  0.3182],\n",
      "        [ 1.0000, -0.0419,  1.3934, -0.2164, -0.8193,  0.8937],\n",
      "        [ 1.0000, -0.9682,  1.0186,  0.2670, -1.0410,  1.1465],\n",
      "        [ 1.0000, -0.8600,  0.4167, -0.4459, -0.3423,  1.5401],\n",
      "        [ 1.0000,  0.0172, -1.3236, -0.6205, -0.9417, -0.2905],\n",
      "        [ 1.0000,  0.8018, -0.3166,  1.9413,  0.9749,  0.9431],\n",
      "        [ 1.0000,  1.6799,  1.4494, -0.0050, -0.6225, -0.7228],\n",
      "        [ 1.0000,  0.0731,  0.8554, -0.9517, -0.0573, -0.7409],\n",
      "        [ 1.0000, -1.3801, -0.7055, -0.3410, -0.5816, -0.7828],\n",
      "        [ 1.0000,  0.3737,  0.9763, -0.3418,  0.5420,  0.9868],\n",
      "        [ 1.0000,  0.5723, -0.0399,  0.9910, -0.4395, -0.4787],\n",
      "        [ 1.0000, -0.7199, -1.1709,  1.0553,  0.2096,  0.4760],\n",
      "        [ 1.0000, -0.9367, -0.8627, -3.6674,  2.1210,  0.8285],\n",
      "        [ 1.0000, -1.4132,  0.3568,  0.1086, -0.0731, -0.0850],\n",
      "        [ 1.0000,  0.2705, -0.5658, -0.7392,  0.2654,  0.1517],\n",
      "        [ 1.0000,  1.2094,  1.2930,  0.8877,  0.2439,  0.6066],\n",
      "        [ 1.0000, -0.1326,  1.8374,  0.0156, -0.0144, -1.8237],\n",
      "        [ 1.0000, -0.0342, -1.7470, -0.6816, -0.2019,  0.7762],\n",
      "        [ 1.0000, -1.0001,  0.2396,  0.0769,  0.3291,  1.0062],\n",
      "        [ 1.0000, -0.6817, -0.6551,  1.8858,  1.1147,  0.9191],\n",
      "        [ 1.0000, -1.1570, -0.4005, -1.3893,  1.0303, -1.0604],\n",
      "        [ 1.0000,  0.3060,  0.3331, -0.2641, -1.0352, -0.5083],\n",
      "        [ 1.0000, -0.9066, -0.1758,  0.7366,  0.4631, -0.7543],\n",
      "        [ 1.0000, -1.9069,  0.7025,  0.6763,  0.0172, -1.6003],\n",
      "        [ 1.0000,  0.9204,  0.5283,  0.1909, -0.0373, -0.0103],\n",
      "        [ 1.0000, -1.3205, -0.6896, -1.1689, -0.8455, -1.1897],\n",
      "        [ 1.0000,  0.1389, -0.3968, -0.5749, -0.1723, -2.6741],\n",
      "        [ 1.0000,  0.6952,  1.9964, -0.4114,  0.8153, -0.6687],\n",
      "        [ 1.0000,  1.1241,  1.4992,  0.6660, -0.6575,  1.0673],\n",
      "        [ 1.0000,  1.2352, -1.6911,  1.1479,  0.0241,  0.2442],\n",
      "        [ 1.0000, -0.2261,  0.3458, -1.0527, -0.7012,  1.5779],\n",
      "        [ 1.0000,  1.5213, -1.1028, -1.1128, -0.3323,  0.3842],\n",
      "        [ 1.0000,  0.6052, -0.0363, -0.9061, -1.5519,  0.7213],\n",
      "        [ 1.0000,  0.4888, -1.2634,  0.1135,  0.8307, -2.2609],\n",
      "        [ 1.0000, -0.6104,  0.0301,  0.3592, -1.2575,  1.3254],\n",
      "        [ 1.0000,  0.9094,  0.8855, -1.5555, -0.4141, -0.6234],\n",
      "        [ 1.0000,  0.6639,  0.7323,  1.0113, -0.9637, -0.8710],\n",
      "        [ 1.0000,  0.1716,  0.6483, -1.8016, -0.1889, -0.0984],\n",
      "        [ 1.0000,  0.3840,  1.7944,  0.3014,  0.9025, -1.0819],\n",
      "        [ 1.0000,  0.3225,  2.1093, -0.7267, -0.2354,  0.0130],\n",
      "        [ 1.0000,  0.2886, -0.4949, -1.2178, -0.9288, -1.0531],\n",
      "        [ 1.0000,  0.4685,  0.7374,  2.2116, -0.4155,  0.1946],\n",
      "        [ 1.0000,  2.4387, -0.9310,  1.7402, -0.3591,  1.0636],\n",
      "        [ 1.0000, -2.2577, -0.3357,  0.5455,  0.7781,  0.3406],\n",
      "        [ 1.0000, -0.1172,  0.6207, -0.4714,  0.3151, -1.2047]])\n"
     ]
    }
   ],
   "source": [
    "x = torch.cat([torch.ones(100, 1), torch.randn(100, 5)], 1)\n",
    "print(x)"
   ]
  },
  {
   "cell_type": "code",
   "execution_count": 4,
   "metadata": {},
   "outputs": [],
   "source": [
    "w_true = torch.Tensor([2, 3, 2, 4, 1, 3])\n",
    "y = torch.mv(x, w_true) + torch.randn(100)*0.5"
   ]
  },
  {
   "cell_type": "code",
   "execution_count": 5,
   "metadata": {},
   "outputs": [
    {
     "name": "stdout",
     "output_type": "stream",
     "text": [
      "weight predicted: tensor([1.9676, 3.0822, 1.9984, 3.9534, 0.9930, 3.0365], requires_grad=True)\n",
      "weight ture: tensor([2., 3., 2., 4., 1., 3.])\n"
     ]
    }
   ],
   "source": [
    "losses = []\n",
    "gamma = 0.1\n",
    "w = torch.randn(6, requires_grad=True) # initial seight\n",
    "for e in range(100):\n",
    "    w.grad = None\n",
    "    y_pred = torch.mv(x, w)\n",
    "    loss = torch.mean((y - y_pred) ** 2)\n",
    "    loss.backward() # 미분\n",
    "    w.data = w.data - gamma * w.grad.data # data만 바꿔야 됨\n",
    "    losses.append(loss.item())\n",
    "\n",
    "print('weight predicted:', w)\n",
    "print('weight ture:', w_true)"
   ]
  },
  {
   "cell_type": "code",
   "execution_count": 6,
   "metadata": {},
   "outputs": [
    {
     "data": {
      "text/plain": [
       "[<matplotlib.lines.Line2D at 0x195b4fd1208>]"
      ]
     },
     "execution_count": 6,
     "metadata": {},
     "output_type": "execute_result"
    },
    {
     "data": {
      "image/png": "[encoded data removed]",
      "text/plain": [
       "<Figure size 432x288 with 1 Axes>"
      ]
     },
     "metadata": {
      "needs_background": "light"
     },
     "output_type": "display_data"
    }
   ],
   "source": [
    "import matplotlib.pyplot as plt\n",
    "\n",
    "plt.plot(losses)"
   ]
  },
  {
   "cell_type": "code",
   "execution_count": 7,
   "metadata": {},
   "outputs": [],
   "source": [
    "# use nn Module"
   ]
  },
  {
   "cell_type": "code",
   "execution_count": 8,
   "metadata": {},
   "outputs": [],
   "source": [
    "from torch import nn, optim"
   ]
  },
  {
   "cell_type": "code",
   "execution_count": 9,
   "metadata": {},
   "outputs": [],
   "source": [
    "net = nn.Linear(6, 1, bias=False)\n",
    "\n",
    "obj = nn.MSELoss()\n",
    "optimizer = optim.SGD(net.parameters(), lr=0.01)"
   ]
  },
  {
   "cell_type": "code",
   "execution_count": 10,
   "metadata": {},
   "outputs": [
    {
     "name": "stdout",
     "output_type": "stream",
     "text": [
      "weight predicted: tensor([[1.6212, 2.8663, 1.6717, 3.6583, 0.9693, 2.6535]])\n",
      "weight ture: tensor([2., 3., 2., 4., 1., 3.])\n"
     ]
    }
   ],
   "source": [
    "losses = []\n",
    "\n",
    "for e in range(100):\n",
    "    optimizer.zero_grad() # 초기화\n",
    "    \n",
    "    y_pred = net(x)\n",
    "    loss = obj(y_pred.view(-1), y)\n",
    "    loss.backward()\n",
    "    optimizer.step() # 갱신\n",
    "    \n",
    "    losses.append(loss.item())\n",
    "    \n",
    "print('weight predicted:', net.weight.data)\n",
    "print('weight ture:', w_true)"
   ]
  },
  {
   "cell_type": "code",
   "execution_count": 11,
   "metadata": {},
   "outputs": [
    {
     "data": {
      "text/plain": [
       "[<matplotlib.lines.Line2D at 0x195b508b588>]"
      ]
     },
     "execution_count": 11,
     "metadata": {},
     "output_type": "execute_result"
    },
    {
     "data": {
      "image/png": "[encoded data removed]",
      "text/plain": [
       "<Figure size 432x288 with 1 Axes>"
      ]
     },
     "metadata": {
      "needs_background": "light"
     },
     "output_type": "display_data"
    }
   ],
   "source": [
    "plt.plot(losses)"
   ]
  }
 ],
 "metadata": {
  "kernelspec": {
   "display_name": "Python 3",
   "language": "python",
   "name": "python3"
  },
  "language_info": {
   "codemirror_mode": {
    "name": "ipython",
    "version": 3
   },
   "file_extension": ".py",
   "mimetype": "text/x-python",
   "name": "python",
   "nbconvert_exporter": "python",
   "pygments_lexer": "ipython3",
   "version": "3.7.7"
  },
  "toc": {
   "base_numbering": 1,
   "nav_menu": {},
   "number_sections": true,
   "sideBar": true,
   "skip_h1_title": false,
   "title_cell": "Table of Contents",
   "title_sidebar": "Contents",
   "toc_cell": false,
   "toc_position": {},
   "toc_section_display": true,
   "toc_window_display": false
  }
 },
 "nbformat": 4,
 "nbformat_minor": 4
}
